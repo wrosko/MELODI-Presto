{
 "cells": [
  {
   "cell_type": "code",
   "execution_count": 1,
   "id": "12a6e13c-4fd1-4fe2-8f7a-368ccd880ad7",
   "metadata": {},
   "outputs": [],
   "source": [
    "%load_ext autoreload\n",
    "\n",
    "%autoreload 2"
   ]
  },
  {
   "cell_type": "code",
   "execution_count": 2,
   "id": "4dd2828b-e02a-4047-bf29-6d86e4ca0076",
   "metadata": {},
   "outputs": [],
   "source": [
    "# ! pip install loguru\n"
   ]
  },
  {
   "cell_type": "code",
   "execution_count": 3,
   "id": "4536b30c-c087-4c97-b42e-ca45353cee5e",
   "metadata": {},
   "outputs": [],
   "source": [
    "from elasticsearch import Elasticsearch\n",
    "from elasticsearch import helpers\n",
    "from collections import deque\n",
    "from loguru import logger\n",
    "import django_project.config as config\n",
    "import datetime\n",
    "import time\n",
    "import gzip\n",
    "import pandas as pd\n",
    "import vaex\n",
    "\n",
    "# VER43_R has different structure\n",
    "# new\n",
    "# `SENTENCE_ID` int(10) unsigned NOT NULL AUTO_INCREMENT,\n",
    "# `PMID` varchar(20) NOT NULL DEFAULT '',\n",
    "# `TYPE` varchar(2) NOT NULL DEFAULT '',\n",
    "# `NUMBER` int(10) unsigned NOT NULL DEFAULT '0',\n",
    "# `SENT_START_INDEX` int(10) unsigned NOT NULL DEFAULT '0',\n",
    "# `SENTENCE` varchar(999) DEFAULT NULL,\n",
    "# `SENT_END_INDEX` int(10) unsigned NOT NULL DEFAULT '0',\n",
    "# `SECTION_HEADER` varchar(100) DEFAULT NULL,\n",
    "# `NORMALIZED_SECTION_HEADER` varchar(50) DEFAULT NULL,\n",
    "\n",
    "# old\n",
    "# `SENTENCE_ID` int(10) unsigned NOT NULL AUTO_INCREMENT,\n",
    "# `PMID` varchar(20) NOT NULL DEFAULT '',\n",
    "# `TYPE` varchar(2) NOT NULL DEFAULT '',\n",
    "# `NUMBER` int(10) unsigned NOT NULL DEFAULT '0',\n",
    "# `SENT_START_INDEX` int(10) unsigned NOT NULL DEFAULT '0',\n",
    "# `SENT_END_INDEX` int(10) unsigned NOT NULL DEFAULT '0',\n",
    "# `SECTION_HEADER` varchar(100) DEFAULT NULL,\n",
    "# `NORMALIZED_SECTION_HEADER` varchar(50) DEFAULT NULL,\n",
    "# `SENTENCE` varchar(999) CHARACTER SET utf8 NOT NULL DEFAULT '',\n",
    "\n",
    "es = Elasticsearch(\n",
    "    [{\"host\": config.elastic_host, \"port\": config.elastic_port}],\n",
    ")\n",
    "\n",
    "timeout = 300\n",
    "\n"
   ]
  },
  {
   "cell_type": "code",
   "execution_count": 4,
   "id": "f16194cc-e3b6-4eda-b309-5dc80939106d",
   "metadata": {},
   "outputs": [],
   "source": [
    "def get_date():\n",
    "    d = datetime.datetime.now().strftime(\"%Y-%m-%d %H:%M:%S\")\n",
    "    return d\n",
    "\n",
    "\n",
    "def create_index(index_name, shards=3):\n",
    "    print(\"Creating index\", index_name)\n",
    "    if es.indices.exists(index_name, request_timeout=timeout):\n",
    "        print(\"Index name already exists, please choose another\")\n",
    "    else:\n",
    "        print(\"Creating index \" + index_name)\n",
    "        request_body = {\n",
    "            \"settings\": {\n",
    "                \"number_of_shards\": shards,\n",
    "                \"number_of_replicas\": 1,\n",
    "                # \"index.codec\": \"best_compression\",\n",
    "                \"refresh_interval\": -1,\n",
    "                \"index.max_result_window\": 1000,\n",
    "            },\n",
    "            \"mappings\": {\n",
    "                \"_doc\": {\n",
    "                    \"properties\": {\n",
    "                        \"SENTENCE_ID\": {\"type\": \"keyword\"},\n",
    "                        \"PMID\": {\"type\": \"keyword\"},\n",
    "                        \"TYPE\": {\"type\": \"keyword\"},\n",
    "                        \"NUMBER\": {\"type\": \"keyword\"},\n",
    "                        \"SENT_START_INDEX\": {\"type\": \"integer\"},\n",
    "                        \"SENT_END_INDEX\": {\"type\": \"integer\"},\n",
    "                        # \"SECTION_HEADER\": {\"type\": \"keyword\"},\n",
    "                        # \"NORMALIZED_SECTION_HEADER\": {\"type\": \"keyword\"},\n",
    "                        \"SENTENCE\": {\"type\": \"text\"},\n",
    "                    }\n",
    "                }\n",
    "            },\n",
    "        }\n",
    "        es.indices.create(index=index_name, body=request_body, request_timeout=timeout)\n",
    "\n",
    "\n",
    "def read_pmids():\n",
    "    df = pd.read_csv(\"data/pmids.txt\", header=None, dtype=str, names=[\"pmid\"])\n",
    "    return df[\"pmid\"].tolist()\n",
    "\n"
   ]
  },
  {
   "cell_type": "code",
   "execution_count": 68,
   "id": "3c12227f-e3c9-41ce-93d1-598bb3f72101",
   "metadata": {},
   "outputs": [],
   "source": [
    "sentence_data =config.semmed_sentence_data\n",
    "index_name =config.semmed_sentence_index"
   ]
  },
  {
   "cell_type": "code",
   "execution_count": 12,
   "id": "adfeb974-0ca8-4f5c-9947-9d969bc7ee5d",
   "metadata": {},
   "outputs": [
    {
     "name": "stderr",
     "output_type": "stream",
     "text": [
      "2022-02-08 20:51:38.530 | INFO     | __main__:<module>:4 - pmids: 3922961\n",
      "2022-02-08 20:51:38.531 | INFO     | __main__:<module>:5 - Reading /home/ubuntu/data/semmed_raw/semmedVER43_2021_R_SENTENCE_2.csv.gz.hdf5\n"
     ]
    }
   ],
   "source": [
    "chunkSize = 100000\n",
    "    # get list of pmids from predicates index\n",
    "pmids = set(read_pmids())\n",
    "logger.info(f\"pmids: {len(pmids)}\")\n",
    "logger.info(f\"Reading {sentence_data}\")\n",
    "df = vaex.open(sentence_data)\n",
    "col_names = [\n",
    "\"SENTENCE_ID\",\n",
    "\"PMID\",\n",
    "\"TYPE\",\n",
    "\"NUMBER\",\n",
    "\"SENT_START_INDEX\",\n",
    "\"SENTENCE\",\n",
    "\"SENT_END_INDEX\",\n",
    "\"SECTION_HEADER\",\n",
    "\"NORMALIZED_SECTION_HEADER\",\n",
    "]\n",
    "# df.columns = col_names\n",
    "#    df.drop(columns=[\"SECTION_HEADER\", \"NORMALIZED_SECTION_HEADER\"], inplace=True)\n",
    "    # df.dropna(inplace=True)\n",
    "#    df.fillna(\"NA\", inplace=True)\n",
    "df['PMIDvirt'] = df.PMID"
   ]
  },
  {
   "cell_type": "code",
   "execution_count": 13,
   "id": "35dd717a-f125-4e7e-af35-1b073a831b8d",
   "metadata": {},
   "outputs": [
    {
     "data": {
      "text/html": [
       "<table>\n",
       "<thead>\n",
       "<tr><th>#                                      </th><th>SENTENCE_ID  </th><th>PMID    </th><th>TYPE  </th><th>NUMBER  </th><th>SENT_START_INDEX  </th><th>SENTENCE                                           </th><th>SENT_END_INDEX  </th><th>SECTION_HEADER  </th><th>NORMALIZED_SECTION_HEADER  </th><th>PMIDvirt  </th></tr>\n",
       "</thead>\n",
       "<tbody>\n",
       "<tr><td><i style='opacity: 0.6'>0</i>          </td><td>6            </td><td>16530473</td><td>ti    </td><td>1       </td><td>21                </td><td>&#x27;Fluoride-selective colorimetric sensor based on...</td><td>119             </td><td>--              </td><td>--                         </td><td>16530473  </td></tr>\n",
       "<tr><td><i style='opacity: 0.6'>1</i>          </td><td>7            </td><td>16530473</td><td>ab    </td><td>1       </td><td>125               </td><td>&#x27;A structurally simple colorimetric sensor, N-4-...</td><td>302             </td><td>--              </td><td>--                         </td><td>16530473  </td></tr>\n",
       "<tr><td><i style='opacity: 0.6'>2</i>          </td><td>8            </td><td>16530473</td><td>ab    </td><td>2       </td><td>302               </td><td>&#x27;In acetonitrile, the addition of F(-) changed 1...</td><td>385             </td><td>--              </td><td>--                         </td><td>16530473  </td></tr>\n",
       "<tr><td><i style='opacity: 0.6'>3</i>          </td><td>9            </td><td>16530473</td><td>ab    </td><td>3       </td><td>385               </td><td>&#x27;In the presence of other anions such as CH(3)CO...</td><td>578             </td><td>--              </td><td>--                         </td><td>16530473  </td></tr>\n",
       "<tr><td><i style='opacity: 0.6'>4</i>          </td><td>10           </td><td>16530473</td><td>ab    </td><td>4       </td><td>578               </td><td>&#x27;The association constants of anionic complexes ...</td><td>757             </td><td>--              </td><td>--                         </td><td>16530473  </td></tr>\n",
       "<tr><td>...                                    </td><td>...          </td><td>...     </td><td>...   </td><td>...     </td><td>...               </td><td>...                                                </td><td>...             </td><td>...             </td><td>...                        </td><td>...       </td></tr>\n",
       "<tr><td><i style='opacity: 0.6'>227,668,762</i></td><td>376523184    </td><td>34837689</td><td>ab    </td><td>3       </td><td>508               </td><td>&#x27;The patient had a heterozygous    LAMA3     mut...</td><td>616             </td><td>--              </td><td>--                         </td><td>34837689  </td></tr>\n",
       "<tr><td><i style='opacity: 0.6'>227,668,763</i></td><td>376523185    </td><td>34837689</td><td>ab    </td><td>4       </td><td>616               </td><td>&#x27;Our results propose that these mutations produc...</td><td>754             </td><td>--              </td><td>--                         </td><td>34837689  </td></tr>\n",
       "<tr><td><i style='opacity: 0.6'>227,668,764</i></td><td>376523186    </td><td>34837689</td><td>ab    </td><td>5       </td><td>754               </td><td>&#x27;Interestingly, this is the first report indicat...</td><td>907             </td><td>--              </td><td>--                         </td><td>34837689  </td></tr>\n",
       "<tr><td><i style='opacity: 0.6'>227,668,765</i></td><td>376523187    </td><td>34837689</td><td>ab    </td><td>6       </td><td>907               </td><td>&#x27;Also, this is the first digenic inheritance rec...</td><td>989             </td><td>--              </td><td>--                         </td><td>34837689  </td></tr>\n",
       "<tr><td><i style='opacity: 0.6'>227,668,766</i></td><td>376523188    </td><td>34837689</td><td>ab    </td><td>7       </td><td>989               </td><td>&#x27;This study provides a new way to clarify the mo...</td><td>1109            </td><td>--              </td><td>--                         </td><td>34837689  </td></tr>\n",
       "</tbody>\n",
       "</table>"
      ],
      "text/plain": [
       "#            SENTENCE_ID    PMID      TYPE    NUMBER    SENT_START_INDEX    SENTENCE                                             SENT_END_INDEX    SECTION_HEADER    NORMALIZED_SECTION_HEADER    PMIDvirt\n",
       "0            6              16530473  ti      1         21                  'Fluoride-selective colorimetric sensor based on...  119               --                --                           16530473\n",
       "1            7              16530473  ab      1         125                 'A structurally simple colorimetric sensor, N-4-...  302               --                --                           16530473\n",
       "2            8              16530473  ab      2         302                 'In acetonitrile, the addition of F(-) changed 1...  385               --                --                           16530473\n",
       "3            9              16530473  ab      3         385                 'In the presence of other anions such as CH(3)CO...  578               --                --                           16530473\n",
       "4            10             16530473  ab      4         578                 'The association constants of anionic complexes ...  757               --                --                           16530473\n",
       "...          ...            ...       ...     ...       ...                 ...                                                  ...               ...               ...                          ...\n",
       "227,668,762  376523184      34837689  ab      3         508                 'The patient had a heterozygous    LAMA3     mut...  616               --                --                           34837689\n",
       "227,668,763  376523185      34837689  ab      4         616                 'Our results propose that these mutations produc...  754               --                --                           34837689\n",
       "227,668,764  376523186      34837689  ab      5         754                 'Interestingly, this is the first report indicat...  907               --                --                           34837689\n",
       "227,668,765  376523187      34837689  ab      6         907                 'Also, this is the first digenic inheritance rec...  989               --                --                           34837689\n",
       "227,668,766  376523188      34837689  ab      7         989                 'This study provides a new way to clarify the mo...  1109              --                --                           34837689"
      ]
     },
     "execution_count": 13,
     "metadata": {},
     "output_type": "execute_result"
    }
   ],
   "source": [
    "df"
   ]
  },
  {
   "cell_type": "code",
   "execution_count": 21,
   "id": "b5be3ba2-672e-437d-8386-ec465d849fa9",
   "metadata": {},
   "outputs": [
    {
     "name": "stdout",
     "output_type": "stream",
     "text": [
      "CPU times: user 8.55 s, sys: 211 ms, total: 8.76 s\n",
      "Wall time: 8.56 s\n"
     ]
    }
   ],
   "source": [
    "%%time\n",
    "for i,row in df[:1000].iterrows():\n",
    "    pass"
   ]
  },
  {
   "cell_type": "code",
   "execution_count": null,
   "id": "2c3a3316-6276-42e5-9d99-2b270129d2cc",
   "metadata": {},
   "outputs": [],
   "source": []
  },
  {
   "cell_type": "code",
   "execution_count": null,
   "id": "e36a6306-7e2c-453b-bf8d-6d2b0c75d754",
   "metadata": {},
   "outputs": [],
   "source": []
  },
  {
   "cell_type": "code",
   "execution_count": null,
   "id": "8586f49b-5e02-4024-b8b8-3a4bb158cfd0",
   "metadata": {},
   "outputs": [],
   "source": [
    "# data_dict = {\n",
    "#                 \"SENTENCE_ID\": row[\"SENTENCE_ID\"],\n",
    "#                 \"PMID\": row[\"PMID\"],\n",
    "#                 \"TYPE\": row[\"TYPE\"],\n",
    "#                 \"NUMBER\": row[\"NUMBER\"],\n",
    "#                 \"SENT_START_INDEX\": int(row[\"SENT_START_INDEX\"]),\n",
    "#                 \"SENTENCE\": row[\"SENTENCE\"],\n",
    "#                 \"SENT_END_INDEX\": int(row[\"SENT_END_INDEX\"]),\n",
    "#                 # \"SECTION_HEADER\": row['SECTION_HEADER'],\n",
    "#                 # \"NORMALIZED_SECTION_HEADER\": l[8],\n",
    "#             }"
   ]
  },
  {
   "cell_type": "code",
   "execution_count": 74,
   "id": "d338cd8d-c645-495c-a185-490d4ea1bad1",
   "metadata": {},
   "outputs": [],
   "source": [
    "headers = [\"SENTENCE_ID\",\"PMID\",\"TYPE\",\"NUMBER\",\"SENT_START_INDEX\",\"SENTENCE\",\"SENT_END_INDEX\"]"
   ]
  },
  {
   "cell_type": "code",
   "execution_count": 75,
   "id": "8261db60-cb08-4a9d-8236-b6481e0b9114",
   "metadata": {},
   "outputs": [],
   "source": [
    "dfr = vaex.open(sentence_data)[:100000][headers]"
   ]
  },
  {
   "cell_type": "code",
   "execution_count": 76,
   "id": "157d69ca-5a1d-4c98-b4f0-e167f2207095",
   "metadata": {},
   "outputs": [
    {
     "data": {
      "text/html": [
       "<table>\n",
       "<thead>\n",
       "<tr><th>#                                 </th><th>SENTENCE_ID  </th><th>PMID    </th><th>TYPE  </th><th>NUMBER  </th><th>SENT_START_INDEX  </th><th>SENTENCE                                           </th><th>SENT_END_INDEX  </th></tr>\n",
       "</thead>\n",
       "<tbody>\n",
       "<tr><td><i style='opacity: 0.6'>0</i>     </td><td>6            </td><td>16530473</td><td>ti    </td><td>1       </td><td>21                </td><td>&#x27;Fluoride-selective colorimetric sensor based on...</td><td>119             </td></tr>\n",
       "<tr><td><i style='opacity: 0.6'>1</i>     </td><td>7            </td><td>16530473</td><td>ab    </td><td>1       </td><td>125               </td><td>&#x27;A structurally simple colorimetric sensor, N-4-...</td><td>302             </td></tr>\n",
       "<tr><td><i style='opacity: 0.6'>2</i>     </td><td>8            </td><td>16530473</td><td>ab    </td><td>2       </td><td>302               </td><td>&#x27;In acetonitrile, the addition of F(-) changed 1...</td><td>385             </td></tr>\n",
       "<tr><td><i style='opacity: 0.6'>3</i>     </td><td>9            </td><td>16530473</td><td>ab    </td><td>3       </td><td>385               </td><td>&#x27;In the presence of other anions such as CH(3)CO...</td><td>578             </td></tr>\n",
       "<tr><td><i style='opacity: 0.6'>4</i>     </td><td>10           </td><td>16530473</td><td>ab    </td><td>4       </td><td>578               </td><td>&#x27;The association constants of anionic complexes ...</td><td>757             </td></tr>\n",
       "<tr><td>...                               </td><td>...          </td><td>...     </td><td>...   </td><td>...     </td><td>...               </td><td>...                                                </td><td>...             </td></tr>\n",
       "<tr><td><i style='opacity: 0.6'>99,995</i></td><td>112487       </td><td>16550014</td><td>ab    </td><td>2       </td><td>265               </td><td>&#x27;Positive sentinel lymph node (SLN) biopsy neces...</td><td>372             </td></tr>\n",
       "<tr><td><i style='opacity: 0.6'>99,996</i></td><td>112488       </td><td>16550014</td><td>ab    </td><td>3       </td><td>372               </td><td>&#x27;Failure to visualize a sentinel lymph node in r...</td><td>567             </td></tr>\n",
       "<tr><td><i style='opacity: 0.6'>99,997</i></td><td>112489       </td><td>16550014</td><td>ab    </td><td>4       </td><td>567               </td><td>&#x27;The reason for failure to visualize the sentine...</td><td>756             </td></tr>\n",
       "<tr><td><i style='opacity: 0.6'>99,998</i></td><td>112490       </td><td>16550014</td><td>ab    </td><td>5       </td><td>756               </td><td>&#x27;Alternative pathways for the drainage of lymph ...</td><td>852             </td></tr>\n",
       "<tr><td><i style='opacity: 0.6'>99,999</i></td><td>112491       </td><td>16550014</td><td>ab    </td><td>6       </td><td>852               </td><td>&#x27;We have previously reported on the alternative ...</td><td>1039            </td></tr>\n",
       "</tbody>\n",
       "</table>"
      ],
      "text/plain": [
       "#       SENTENCE_ID    PMID      TYPE    NUMBER    SENT_START_INDEX    SENTENCE                                             SENT_END_INDEX\n",
       "0       6              16530473  ti      1         21                  'Fluoride-selective colorimetric sensor based on...  119\n",
       "1       7              16530473  ab      1         125                 'A structurally simple colorimetric sensor, N-4-...  302\n",
       "2       8              16530473  ab      2         302                 'In acetonitrile, the addition of F(-) changed 1...  385\n",
       "3       9              16530473  ab      3         385                 'In the presence of other anions such as CH(3)CO...  578\n",
       "4       10             16530473  ab      4         578                 'The association constants of anionic complexes ...  757\n",
       "...     ...            ...       ...     ...       ...                 ...                                                  ...\n",
       "99,995  112487         16550014  ab      2         265                 'Positive sentinel lymph node (SLN) biopsy neces...  372\n",
       "99,996  112488         16550014  ab      3         372                 'Failure to visualize a sentinel lymph node in r...  567\n",
       "99,997  112489         16550014  ab      4         567                 'The reason for failure to visualize the sentine...  756\n",
       "99,998  112490         16550014  ab      5         756                 'Alternative pathways for the drainage of lymph ...  852\n",
       "99,999  112491         16550014  ab      6         852                 'We have previously reported on the alternative ...  1039"
      ]
     },
     "execution_count": 76,
     "metadata": {},
     "output_type": "execute_result"
    }
   ],
   "source": [
    "dfr"
   ]
  },
  {
   "cell_type": "code",
   "execution_count": 77,
   "id": "4e4ebae9-8d20-4333-a457-f68e16e878d4",
   "metadata": {},
   "outputs": [],
   "source": [
    "pmm = list(pmids)"
   ]
  },
  {
   "cell_type": "code",
   "execution_count": 78,
   "id": "f75a2a4b-02f2-4743-9181-3efe82abee9c",
   "metadata": {},
   "outputs": [],
   "source": [
    "ab = dfr.PMID.isin(pmm)"
   ]
  },
  {
   "cell_type": "code",
   "execution_count": 79,
   "id": "1cd19c7a-c2f9-4c94-bc8f-d5f36d142570",
   "metadata": {},
   "outputs": [],
   "source": [
    "dfr = dfr[ab]"
   ]
  },
  {
   "cell_type": "code",
   "execution_count": 98,
   "id": "4cedbf94-ad8b-46fc-80a4-e5926ff7f2eb",
   "metadata": {},
   "outputs": [
    {
     "data": {
      "text/plain": [
       "20037"
      ]
     },
     "execution_count": 98,
     "metadata": {},
     "output_type": "execute_result"
    }
   ],
   "source": [
    "dfr.shape[0]"
   ]
  },
  {
   "cell_type": "code",
   "execution_count": 86,
   "id": "5f385fb3-28cf-46e0-b060-14837a313b25",
   "metadata": {},
   "outputs": [],
   "source": [
    "recs = dfr.to_records(chunk_size = 100)"
   ]
  },
  {
   "cell_type": "code",
   "execution_count": 87,
   "id": "82d9d09f-d281-4a69-91ad-ffaefba5bb85",
   "metadata": {},
   "outputs": [],
   "source": [
    "for record in recs:\n",
    "    pass"
   ]
  },
  {
   "cell_type": "code",
   "execution_count": 89,
   "id": "5e9c6117-13a1-450b-9dcf-32946e7a9703",
   "metadata": {},
   "outputs": [
    {
     "data": {
      "text/plain": [
       "str"
      ]
     },
     "execution_count": 89,
     "metadata": {},
     "output_type": "execute_result"
    }
   ],
   "source": [
    "type(record[2][0]['SENT_START_INDEX'])"
   ]
  },
  {
   "cell_type": "code",
   "execution_count": 102,
   "id": "1257f620-d0ac-436a-829d-d22b4b5c0ec7",
   "metadata": {},
   "outputs": [
    {
     "data": {
      "text/plain": [
       "(227668767, 10)"
      ]
     },
     "execution_count": 102,
     "metadata": {},
     "output_type": "execute_result"
    }
   ],
   "source": [
    "df.shape\n"
   ]
  },
  {
   "cell_type": "code",
   "execution_count": 105,
   "id": "dd83d042-ed38-44e4-b6d2-36126811d0e6",
   "metadata": {},
   "outputs": [
    {
     "data": {
      "text/plain": [
       "381.29436"
      ]
     },
     "execution_count": 105,
     "metadata": {},
     "output_type": "execute_result"
    }
   ],
   "source": [
    "38129436/100000"
   ]
  },
  {
   "cell_type": "code",
   "execution_count": null,
   "id": "e6de5446-1bad-4ca4-adad-24fb5d14bd65",
   "metadata": {},
   "outputs": [],
   "source": []
  },
  {
   "cell_type": "code",
   "execution_count": 104,
   "id": "6734737a-388b-4bb8-9c0c-b784f00544bd",
   "metadata": {},
   "outputs": [
    {
     "data": {
      "text/plain": [
       "189539331"
      ]
     },
     "execution_count": 104,
     "metadata": {},
     "output_type": "execute_result"
    }
   ],
   "source": [
    "227668767-38129436"
   ]
  },
  {
   "cell_type": "code",
   "execution_count": 90,
   "id": "5155460f-9780-4fca-b238-ab6c7bd62f01",
   "metadata": {},
   "outputs": [],
   "source": [
    "bulk_data=[]"
   ]
  },
  {
   "cell_type": "code",
   "execution_count": 91,
   "id": "fa0ccf07-72c2-410b-bb54-61a5274649ef",
   "metadata": {},
   "outputs": [],
   "source": [
    "for data_dict in record[2]:\n",
    "    # logger.info(row)\n",
    "    data_dict[\"SENT_START_INDEX\"] = int(data_dict[\"SENT_START_INDEX\"])\n",
    "    data_dict[\"SENT_END_INDEX\"] = int(data_dict[\"SENT_END_INDEX\"])\n",
    "    op_dict = {\n",
    "        \"_index\": index_name,\n",
    "        # \"_id\": l[0],\n",
    "        # \"_op_type\": \"create\",\n",
    "        \"_type\": \"_doc\",\n",
    "        \"_source\": data_dict,\n",
    "    }\n",
    "    # check for bad entries\n",
    "    nan_check = True\n",
    "    for i in data_dict:\n",
    "        if not data_dict[i]:\n",
    "            nan_check = False\n",
    "    if nan_check == True:\n",
    "        bulk_data.append(op_dict)\n"
   ]
  },
  {
   "cell_type": "code",
   "execution_count": 95,
   "id": "474805d6-1eef-4883-9d54-934518f2e0e5",
   "metadata": {},
   "outputs": [
    {
     "data": {
      "text/plain": [
       "(20000, 20037)"
      ]
     },
     "execution_count": 95,
     "metadata": {},
     "output_type": "execute_result"
    }
   ],
   "source": [
    "record[0:2]"
   ]
  },
  {
   "cell_type": "code",
   "execution_count": 92,
   "id": "b27769e1-a371-4027-b787-0545dec21047",
   "metadata": {},
   "outputs": [
    {
     "data": {
      "text/plain": [
       "int"
      ]
     },
     "execution_count": 92,
     "metadata": {},
     "output_type": "execute_result"
    }
   ],
   "source": [
    "type(record[2][0]['SENT_START_INDEX'])"
   ]
  },
  {
   "cell_type": "code",
   "execution_count": 73,
   "id": "f6827d71-b07b-406d-97f6-3099d247509a",
   "metadata": {},
   "outputs": [
    {
     "data": {
      "text/plain": [
       "{'SENTENCE_ID': 4564564564,\n",
       " 'PMID': '16550001',\n",
       " 'TYPE': 'ab',\n",
       " 'NUMBER': '10',\n",
       " 'SENT_START_INDEX': 1314,\n",
       " 'SENTENCE': 'Overexpression of the 67-kDa laminin receptor led to an increased binding of the cells to PCK3145.'}"
      ]
     },
     "execution_count": 73,
     "metadata": {},
     "output_type": "execute_result"
    }
   ],
   "source": [
    "data_dict"
   ]
  },
  {
   "cell_type": "code",
   "execution_count": 70,
   "id": "05b82c37-12c9-4dfc-bd38-0c22245e08a6",
   "metadata": {},
   "outputs": [],
   "source": [
    "record[2][0]['SENTENCE_ID'] = 4564564564"
   ]
  },
  {
   "cell_type": "code",
   "execution_count": null,
   "id": "ff4c903d-88b3-4143-8ebc-edadc2df5c14",
   "metadata": {},
   "outputs": [],
   "source": []
  },
  {
   "cell_type": "code",
   "execution_count": null,
   "id": "52182437-7fbd-425f-835c-2f325248b668",
   "metadata": {},
   "outputs": [],
   "source": []
  },
  {
   "cell_type": "code",
   "execution_count": 5,
   "id": "8c319aab-beaa-4e83-9911-1a42120915d2",
   "metadata": {},
   "outputs": [],
   "source": [
    "predicate_data = config.semmed_predicate_data\n",
    "concept_data=config.semmed_concept_data\n",
    "index_name =config.semmed_predicate_index"
   ]
  },
  {
   "cell_type": "code",
   "execution_count": 6,
   "id": "f8bf7c2a-eda6-4004-ab0e-1d91bcffd149",
   "metadata": {},
   "outputs": [
    {
     "data": {
      "text/plain": [
       "'/home/ubuntu/data/semmed_raw/semmedVER43_2021_R_GENERIC_CONCEPT.csv.gz'"
      ]
     },
     "execution_count": 6,
     "metadata": {},
     "output_type": "execute_result"
    }
   ],
   "source": [
    "concept_data"
   ]
  },
  {
   "cell_type": "code",
   "execution_count": 7,
   "id": "a577d8a1-e0f0-44fd-b4cc-78df5e933890",
   "metadata": {},
   "outputs": [],
   "source": [
    "df = vaex.from_csv(predicate_data, encoding=\"ISO-8859-1\", convert=True, dtype='object',chunk_size=1_000_000)"
   ]
  },
  {
   "cell_type": "code",
   "execution_count": 8,
   "id": "551e484b-82b0-40ea-bda4-e257f79147d6",
   "metadata": {},
   "outputs": [
    {
     "data": {
      "text/plain": [
       "'/home/ubuntu/data/semmed_raw/semmedVER43_2021_R_PREDICATION_2.csv.gz'"
      ]
     },
     "execution_count": 8,
     "metadata": {},
     "output_type": "execute_result"
    }
   ],
   "source": [
    "predicate_data"
   ]
  },
  {
   "cell_type": "code",
   "execution_count": null,
   "id": "7387fbfc-39b1-4b8b-b629-251bdce0f9de",
   "metadata": {},
   "outputs": [],
   "source": []
  },
  {
   "cell_type": "code",
   "execution_count": 9,
   "id": "b3379ccd-95c8-44cb-ae67-aeed148cbe95",
   "metadata": {},
   "outputs": [
    {
     "data": {
      "text/html": [
       "<table>\n",
       "<thead>\n",
       "<tr><th>#                                      </th><th>PREDICATION_ID  </th><th>SENTENCE_ID  </th><th>PMID    </th><th>PREDICATE  </th><th>SUBJECT_CUI   </th><th>SUBJECT_NAME                                       </th><th>SUBJECT_SEMTYPE  </th><th>SUBJECT_NOVELTY  </th><th>OBJECT_CUI  </th><th>OBJECT_NAME             </th><th>OBJECT_SEMTYPE  </th><th>OBJECT_NOVELTY  </th><th>x  </th><th>y  </th><th>z  </th></tr>\n",
       "</thead>\n",
       "<tbody>\n",
       "<tr><td><i style='opacity: 0.6'>0</i>          </td><td>10592604        </td><td>16           </td><td>16530475</td><td>PROCESS_OF </td><td>C0003725      </td><td>Arboviruses                                        </td><td>virs             </td><td>1                </td><td>C0999630    </td><td>Lepus capensis          </td><td>mamm            </td><td>1               </td><td>\\N </td><td>\\N </td><td>\\N </td></tr>\n",
       "<tr><td><i style='opacity: 0.6'>1</i>          </td><td>10592697        </td><td>17           </td><td>16530475</td><td>ISA        </td><td>C0039258      </td><td>Tahyna virus                                       </td><td>virs             </td><td>1                </td><td>C0446169    </td><td>California Group Viruses</td><td>virs            </td><td>1               </td><td>\\N </td><td>\\N </td><td>\\N </td></tr>\n",
       "<tr><td><i style='opacity: 0.6'>2</i>          </td><td>10592728        </td><td>17           </td><td>16530475</td><td>ISA        </td><td>C0318627      </td><td>Eyach virus                                        </td><td>virs             </td><td>1                </td><td>C0206590    </td><td>Coltivirus              </td><td>virs            </td><td>1               </td><td>\\N </td><td>\\N </td><td>\\N </td></tr>\n",
       "<tr><td><i style='opacity: 0.6'>3</i>          </td><td>10592759        </td><td>17           </td><td>16530475</td><td>ISA        </td><td>C0446169      </td><td>California Group Viruses                           </td><td>virs             </td><td>1                </td><td>C0003725    </td><td>Arboviruses             </td><td>virs            </td><td>1               </td><td>\\N </td><td>\\N </td><td>\\N </td></tr>\n",
       "<tr><td><i style='opacity: 0.6'>4</i>          </td><td>10592832        </td><td>18           </td><td>16530475</td><td>PROCESS_OF </td><td>C0012634      </td><td>Disease                                            </td><td>dsyn             </td><td>0                </td><td>C0020114    </td><td>Human                   </td><td>humn            </td><td>0               </td><td>\\N </td><td>\\N </td><td>\\N </td></tr>\n",
       "<tr><td>...                                    </td><td>...             </td><td>...          </td><td>...     </td><td>...        </td><td>...           </td><td>...                                                </td><td>...              </td><td>...              </td><td>...         </td><td>...                     </td><td>...             </td><td>...             </td><td>...</td><td>...</td><td>...</td></tr>\n",
       "<tr><td><i style='opacity: 0.6'>112,796,181</i></td><td>194462837       </td><td>369458366    </td><td>34146390</td><td>CAUSES     </td><td>C3642279|84557</td><td>&#x27;Microtubule-Associated Proteins 1A/1B Light Cha...</td><td>gngm             </td><td>1                </td><td>C0004391    </td><td>Autophagy               </td><td>celf            </td><td>1               </td><td>\\N </td><td>\\N </td><td>\\N </td></tr>\n",
       "<tr><td><i style='opacity: 0.6'>112,796,182</i></td><td>194462838       </td><td>369458367    </td><td>34146390</td><td>CAUSES     </td><td>C0036117      </td><td>Salmonella infections                              </td><td>dsyn             </td><td>1                </td><td>C0009319    </td><td>Colitis                 </td><td>dsyn            </td><td>1               </td><td>\\N </td><td>\\N </td><td>\\N </td></tr>\n",
       "<tr><td><i style='opacity: 0.6'>112,796,183</i></td><td>194462839       </td><td>369458367    </td><td>34146390</td><td>LOCATION_OF</td><td>C0015733      </td><td>Feces                                              </td><td>bdsu             </td><td>1                </td><td>C0061202    </td><td>genistein               </td><td>bacs            </td><td>1               </td><td>\\N </td><td>\\N </td><td>\\N </td></tr>\n",
       "<tr><td><i style='opacity: 0.6'>112,796,184</i></td><td>194462840       </td><td>369458368    </td><td>34146390</td><td>DISRUPTS   </td><td>C0009319      </td><td>Colitis                                            </td><td>dsyn             </td><td>1                </td><td>C0506994    </td><td>Goblet Cells            </td><td>cell            </td><td>1               </td><td>\\N </td><td>\\N </td><td>\\N </td></tr>\n",
       "<tr><td><i style='opacity: 0.6'>112,796,185</i></td><td>194462841       </td><td>369458368    </td><td>34146390</td><td>AFFECTS    </td><td>C0036117      </td><td>Salmonella infections                              </td><td>dsyn             </td><td>1                </td><td>C0004611    </td><td>Bacteria                </td><td>bact            </td><td>1               </td><td>\\N </td><td>\\N </td><td>\\N </td></tr>\n",
       "</tbody>\n",
       "</table>"
      ],
      "text/plain": [
       "#            PREDICATION_ID    SENTENCE_ID    PMID      PREDICATE    SUBJECT_CUI     SUBJECT_NAME                                         SUBJECT_SEMTYPE    SUBJECT_NOVELTY    OBJECT_CUI    OBJECT_NAME               OBJECT_SEMTYPE    OBJECT_NOVELTY    x    y    z\n",
       "0            10592604          16             16530475  PROCESS_OF   C0003725        Arboviruses                                          virs               1                  C0999630      Lepus capensis            mamm              1                 \\N   \\N   \\N\n",
       "1            10592697          17             16530475  ISA          C0039258        Tahyna virus                                         virs               1                  C0446169      California Group Viruses  virs              1                 \\N   \\N   \\N\n",
       "2            10592728          17             16530475  ISA          C0318627        Eyach virus                                          virs               1                  C0206590      Coltivirus                virs              1                 \\N   \\N   \\N\n",
       "3            10592759          17             16530475  ISA          C0446169        California Group Viruses                             virs               1                  C0003725      Arboviruses               virs              1                 \\N   \\N   \\N\n",
       "4            10592832          18             16530475  PROCESS_OF   C0012634        Disease                                              dsyn               0                  C0020114      Human                     humn              0                 \\N   \\N   \\N\n",
       "...          ...               ...            ...       ...          ...             ...                                                  ...                ...                ...           ...                       ...               ...               ...  ...  ...\n",
       "112,796,181  194462837         369458366      34146390  CAUSES       C3642279|84557  'Microtubule-Associated Proteins 1A/1B Light Cha...  gngm               1                  C0004391      Autophagy                 celf              1                 \\N   \\N   \\N\n",
       "112,796,182  194462838         369458367      34146390  CAUSES       C0036117        Salmonella infections                                dsyn               1                  C0009319      Colitis                   dsyn              1                 \\N   \\N   \\N\n",
       "112,796,183  194462839         369458367      34146390  LOCATION_OF  C0015733        Feces                                                bdsu               1                  C0061202      genistein                 bacs              1                 \\N   \\N   \\N\n",
       "112,796,184  194462840         369458368      34146390  DISRUPTS     C0009319        Colitis                                              dsyn               1                  C0506994      Goblet Cells              cell              1                 \\N   \\N   \\N\n",
       "112,796,185  194462841         369458368      34146390  AFFECTS      C0036117        Salmonella infections                                dsyn               1                  C0004611      Bacteria                  bact              1                 \\N   \\N   \\N"
      ]
     },
     "execution_count": 9,
     "metadata": {},
     "output_type": "execute_result"
    }
   ],
   "source": [
    "df"
   ]
  },
  {
   "cell_type": "code",
   "execution_count": null,
   "id": "93b0ce2d-22cb-48a8-b54a-3fd831b985c8",
   "metadata": {},
   "outputs": [],
   "source": []
  },
  {
   "cell_type": "code",
   "execution_count": 38,
   "id": "f0d345f6-db3c-4c92-920c-b893cc0ee4a4",
   "metadata": {},
   "outputs": [],
   "source": [
    "index_name = config.semmed_predicate_index\n",
    "batch_size = 100000\n",
    "url = (\n",
    "    \"http://\"\n",
    "    + config.elastic_host\n",
    "    + \":\"\n",
    "    + config.elastic_port\n",
    "    + \"/\"\n",
    "    + index_name\n",
    "    + \"/_search/\"\n",
    ")\n",
    "headers = {\"Content-Type\": \"application/json\"}\n"
   ]
  },
  {
   "cell_type": "code",
   "execution_count": 39,
   "id": "ac440a92-7a23-46ad-ab6e-77c2ffb5e1ad",
   "metadata": {},
   "outputs": [
    {
     "data": {
      "text/plain": [
       "'predicate_index'"
      ]
     },
     "execution_count": 39,
     "metadata": {},
     "output_type": "execute_result"
    }
   ],
   "source": [
    "index_name"
   ]
  },
  {
   "cell_type": "code",
   "execution_count": 40,
   "id": "1eb3997a-59e8-477c-b901-9d02a93409c4",
   "metadata": {},
   "outputs": [],
   "source": [
    "semmed_type = \"semmeddb_triple\"\n",
    "if semmed_type == \"semmeddb_triple\":\n",
    "    source = \"SUB_PRED_OBJ\""
   ]
  },
  {
   "cell_type": "code",
   "execution_count": 41,
   "id": "1fce4eae-aa77-4baa-ab58-d113baeb54d5",
   "metadata": {},
   "outputs": [],
   "source": [
    "payload = {\n",
    "        \"aggs\": {\n",
    "            \"my_buckets\": {\n",
    "                \"composite\": {\n",
    "                    \"size\": batch_size,\n",
    "                    \"sources\": [{semmed_type: {\"terms\": {\"field\": source}}}],\n",
    "                }\n",
    "            }\n",
    "        }\n",
    "    }"
   ]
  },
  {
   "cell_type": "code",
   "execution_count": 42,
   "id": "7c505e2f-4c49-4a3d-89d9-422f52f546a3",
   "metadata": {},
   "outputs": [
    {
     "data": {
      "text/plain": [
       "{'aggs': {'my_buckets': {'composite': {'size': 100000,\n",
       "    'sources': [{'semmeddb_triple': {'terms': {'field': 'SUB_PRED_OBJ'}}}]}}}}"
      ]
     },
     "execution_count": 42,
     "metadata": {},
     "output_type": "execute_result"
    }
   ],
   "source": [
    "payload"
   ]
  },
  {
   "cell_type": "code",
   "execution_count": 43,
   "id": "73c928b1-44c5-4be7-b621-953a9bd0207f",
   "metadata": {},
   "outputs": [
    {
     "data": {
      "text/plain": [
       "'http://localhost:9200/predicate_index/_search/'"
      ]
     },
     "execution_count": 43,
     "metadata": {},
     "output_type": "execute_result"
    }
   ],
   "source": [
    "url"
   ]
  },
  {
   "cell_type": "code",
   "execution_count": 44,
   "id": "8bad8546-a51a-431b-985b-4a6e28b17ff4",
   "metadata": {},
   "outputs": [],
   "source": [
    "import requests"
   ]
  },
  {
   "cell_type": "code",
   "execution_count": 45,
   "id": "46e5d152-81a3-43c6-87a5-7090aaa7a7fc",
   "metadata": {},
   "outputs": [],
   "source": [
    "r = requests.post(url, json=payload, headers=headers)"
   ]
  },
  {
   "cell_type": "code",
   "execution_count": null,
   "id": "91cb0c4d-9dd1-40e9-9392-de26466525a6",
   "metadata": {},
   "outputs": [],
   "source": []
  },
  {
   "cell_type": "code",
   "execution_count": 46,
   "id": "3c0ef45f-de1c-4102-86bd-de67e909a97e",
   "metadata": {},
   "outputs": [],
   "source": [
    "res = r.json()"
   ]
  },
  {
   "cell_type": "code",
   "execution_count": 48,
   "id": "f6b39e8b-4db3-49ff-a0f7-b5f233313535",
   "metadata": {},
   "outputs": [
    {
     "data": {
      "text/plain": [
       "{'error': {'root_cause': [{'type': 'too_many_buckets_exception',\n",
       "    'reason': 'Trying to create too many buckets. Must be less than or equal to: [10000] but was [100000]. This limit can be set by changing the [search.max_buckets] cluster level setting.',\n",
       "    'max_buckets': 10000}],\n",
       "  'type': 'search_phase_execution_exception',\n",
       "  'reason': 'all shards failed',\n",
       "  'phase': 'query',\n",
       "  'grouped': True,\n",
       "  'failed_shards': [{'shard': 0,\n",
       "    'index': 'predicate_index',\n",
       "    'node': '1RpYqzjcSweLVR_lSkBKCg',\n",
       "    'reason': {'type': 'too_many_buckets_exception',\n",
       "     'reason': 'Trying to create too many buckets. Must be less than or equal to: [10000] but was [100000]. This limit can be set by changing the [search.max_buckets] cluster level setting.',\n",
       "     'max_buckets': 10000}}]},\n",
       " 'status': 503}"
      ]
     },
     "execution_count": 48,
     "metadata": {},
     "output_type": "execute_result"
    }
   ],
   "source": [
    "res"
   ]
  },
  {
   "cell_type": "code",
   "execution_count": 47,
   "id": "b3074dbf-c404-4583-a522-2c3c4dc1405e",
   "metadata": {},
   "outputs": [
    {
     "ename": "KeyError",
     "evalue": "'aggregations'",
     "output_type": "error",
     "traceback": [
      "\u001b[0;31m---------------------------------------------------------------------------\u001b[0m",
      "\u001b[0;31mKeyError\u001b[0m                                  Traceback (most recent call last)",
      "\u001b[0;32m/tmp/ipykernel_27302/669998760.py\u001b[0m in \u001b[0;36m<module>\u001b[0;34m\u001b[0m\n\u001b[0;32m----> 1\u001b[0;31m \u001b[0mres\u001b[0m\u001b[0;34m[\u001b[0m\u001b[0;34m'aggregations'\u001b[0m\u001b[0;34m]\u001b[0m\u001b[0;34m\u001b[0m\u001b[0m\n\u001b[0m",
      "\u001b[0;31mKeyError\u001b[0m: 'aggregations'"
     ]
    }
   ],
   "source": [
    "predicate_data=\"data/freqs/predicate_index/semmeddb_triple_freqs.txt\""
   ]
  },
  {
   "cell_type": "code",
   "execution_count": null,
   "id": "59d69725-e7ed-4fb9-bfc6-342dd945cf37",
   "metadata": {},
   "outputs": [],
   "source": []
  }
 ],
 "metadata": {
  "kernelspec": {
   "display_name": "Environment (conda_mel_env)",
   "language": "python",
   "name": "conda_mel_env"
  },
  "language_info": {
   "codemirror_mode": {
    "name": "ipython",
    "version": 3
   },
   "file_extension": ".py",
   "mimetype": "text/x-python",
   "name": "python",
   "nbconvert_exporter": "python",
   "pygments_lexer": "ipython3",
   "version": "3.7.0"
  }
 },
 "nbformat": 4,
 "nbformat_minor": 5
}
